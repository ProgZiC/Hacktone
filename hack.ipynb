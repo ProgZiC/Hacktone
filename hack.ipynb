{
 "cells": [
  {
   "cell_type": "code",
   "execution_count": 1,
   "metadata": {},
   "outputs": [],
   "source": [
    "import pandas as pd\n",
    "parquent_file=r'C:\\Users\\Павел\\Documents\\Hackotone\\train_ai_comp_final_dp.parquet' # путь к тренировочному датасету\n",
    "def gen_feature():  \n",
    "    for i in range(1,1077):\n",
    "        a = 'feature'+str(i)\n",
    "        yield a\n",
    "#print(list(gen_feature()))\n",
    "col = ['target']+list(gen_feature())\n",
    "df = pd.read_parquet(parquent_file,engine='auto',columns=col)\n",
    "row_list = df.loc[:].values.flatten().tolist()\n",
    "\n",
    "\n",
    "\n",
    "print(row_list[1])\n",
    "\n"
   ]
  }
 ],
 "metadata": {
  "kernelspec": {
   "display_name": "Python 3",
   "language": "python",
   "name": "python3"
  },
  "language_info": {
   "codemirror_mode": {
    "name": "ipython",
    "version": 3
   },
   "file_extension": ".py",
   "mimetype": "text/x-python",
   "name": "python",
   "nbconvert_exporter": "python",
   "pygments_lexer": "ipython3",
   "version": "3.11.8"
  }
 },
 "nbformat": 4,
 "nbformat_minor": 2
}
