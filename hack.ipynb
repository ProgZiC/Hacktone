{
 "cells": [
  {
   "cell_type": "code",
   "execution_count": 5,
   "metadata": {},
   "outputs": [],
   "source": [
    "import pandas as pd\n",
    "from sklearn.model_selection import train_test_split\n",
    "from sklearn.ensemble import RandomForestClassifier\n",
    "from catboost import CatBoostClassifier\n",
    "from sklearn.metrics import f1_score, precision_score, recall_score, roc_auc_score\n",
    "import numpy as np\n",
    "import copy\n",
    "\n",
    "parquent_file=r'C:\\Users\\Павел\\Documents\\Hackotone\\train_ai_comp_final_dp.parquet' # путь к тренировочному датасету\n",
    "def gen_feature():  \n",
    "    for i in range(1,1077):\n",
    "        a = 'feature'+str(i)\n",
    "        yield a\n",
    "#col = ['target']+list(gen_feature())\n",
    "df_y = pd.read_parquet(parquent_file,engine='auto',columns=['target'])\n",
    "df_x = pd.read_parquet(parquent_file,engine='auto',columns=list(gen_feature()))\n",
    "\n",
    "x_train, x_test, y_train, y_test = train_test_split(df_x, df_y, test_size=0.3, random_state=0) \n",
    "\n",
    "\n",
    "clf = RandomForestClassifier(max_features=\"sqrt\", max_samples=0.9, n_estimators=100, random_state=42)\n",
    "clf.fit(x_train, y_train.values.ravel())\n",
    "\n",
    "#model = CatBoostClassifier()\n",
    "#model.fit(x_train, y_train.values.ravel(), verbose=False)\n",
    "\n",
    "y_pred = clf.predict(x_test)\n",
    "print(\"F1_SCORE\", f1_score(y_test, y_pred))\n",
    "print(\"PRECISION\", precision_score(y_test, y_pred))\n",
    "print(\"RECALL\", recall_score(y_test, y_pred))\n",
    "print(\"ROC_AUC\", roc_auc_score(y_test, y_pred))\n",
    "\n",
    "\n",
    "\n"
   ]
  },
  {
   "cell_type": "code",
   "execution_count": null,
   "metadata": {},
   "outputs": [],
   "source": []
  }
 ],
 "metadata": {
  "kernelspec": {
   "display_name": "Python 3",
   "language": "python",
   "name": "python3"
  },
  "language_info": {
   "codemirror_mode": {
    "name": "ipython",
    "version": 3
   },
   "file_extension": ".py",
   "mimetype": "text/x-python",
   "name": "python",
   "nbconvert_exporter": "python",
   "pygments_lexer": "ipython3",
   "version": "3.11.8"
  }
 },
 "nbformat": 4,
 "nbformat_minor": 2
}
